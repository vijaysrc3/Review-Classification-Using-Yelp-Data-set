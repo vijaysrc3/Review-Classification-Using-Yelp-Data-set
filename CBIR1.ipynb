{
 "cells": [
  {
   "cell_type": "code",
   "execution_count": null,
   "metadata": {
    "colab": {
     "base_uri": "https://localhost:8080/"
    },
    "id": "Mlm4pXrVObav",
    "outputId": "ee964b34-e261-4605-abac-1fdf630c1d79"
   },
   "outputs": [
    {
     "name": "stdout",
     "output_type": "stream",
     "text": [
      "Mounted at /content/drive\n"
     ]
    }
   ],
   "source": [
    "from google.colab import drive\n",
    "drive.mount('/content/drive', force_remount=True)"
   ]
  },
  {
   "cell_type": "code",
   "execution_count": null,
   "metadata": {
    "colab": {
     "base_uri": "https://localhost:8080/"
    },
    "id": "Jn5eDY6PQn6K",
    "outputId": "63daa6d3-2434-4820-96f0-faa6fdc9752f"
   },
   "outputs": [
    {
     "name": "stdout",
     "output_type": "stream",
     "text": [
      "database      extract_cnn_vgg16_keras.py  index.py\t   README.md\n",
      "DATABASE.zip  featureCNN1.h5\t\t  __pycache__\t   TEST_DB_FINAL\n",
      "DB_FINAL      featureCNN.h5\t\t  query_online.py\n"
     ]
    }
   ],
   "source": [
    "!ls \"/content/drive/My Drive/CBIR\""
   ]
  },
  {
   "cell_type": "code",
   "execution_count": null,
   "metadata": {
    "colab": {
     "base_uri": "https://localhost:8080/"
    },
    "id": "Jmg0Xf_4Qx8O",
    "outputId": "a4aa6c22-4ce9-46ad-9704-97985118c71c"
   },
   "outputs": [
    {
     "name": "stdout",
     "output_type": "stream",
     "text": [
      "--------------------------------------------------\n",
      "         feature extraction starts\n",
      "--------------------------------------------------\n",
      "2021-12-05 06:51:46.277095: E tensorflow/stream_executor/cuda/cuda_driver.cc:271] failed call to cuInit: CUDA_ERROR_NO_DEVICE: no CUDA-capable device is detected\n",
      "extracting feature from image No. 1 , 195 images in total\n",
      "extracting feature from image No. 2 , 195 images in total\n",
      "extracting feature from image No. 3 , 195 images in total\n",
      "extracting feature from image No. 4 , 195 images in total\n",
      "extracting feature from image No. 5 , 195 images in total\n",
      "extracting feature from image No. 6 , 195 images in total\n",
      "extracting feature from image No. 7 , 195 images in total\n",
      "extracting feature from image No. 8 , 195 images in total\n",
      "extracting feature from image No. 9 , 195 images in total\n",
      "extracting feature from image No. 10 , 195 images in total\n",
      "extracting feature from image No. 11 , 195 images in total\n",
      "extracting feature from image No. 12 , 195 images in total\n",
      "extracting feature from image No. 13 , 195 images in total\n",
      "extracting feature from image No. 14 , 195 images in total\n",
      "extracting feature from image No. 15 , 195 images in total\n",
      "extracting feature from image No. 16 , 195 images in total\n",
      "extracting feature from image No. 17 , 195 images in total\n",
      "extracting feature from image No. 18 , 195 images in total\n",
      "extracting feature from image No. 19 , 195 images in total\n",
      "extracting feature from image No. 20 , 195 images in total\n",
      "extracting feature from image No. 21 , 195 images in total\n",
      "extracting feature from image No. 22 , 195 images in total\n",
      "extracting feature from image No. 23 , 195 images in total\n",
      "extracting feature from image No. 24 , 195 images in total\n",
      "extracting feature from image No. 25 , 195 images in total\n",
      "extracting feature from image No. 26 , 195 images in total\n",
      "extracting feature from image No. 27 , 195 images in total\n",
      "extracting feature from image No. 28 , 195 images in total\n",
      "extracting feature from image No. 29 , 195 images in total\n",
      "extracting feature from image No. 30 , 195 images in total\n",
      "extracting feature from image No. 31 , 195 images in total\n",
      "extracting feature from image No. 32 , 195 images in total\n",
      "extracting feature from image No. 33 , 195 images in total\n",
      "extracting feature from image No. 34 , 195 images in total\n",
      "extracting feature from image No. 35 , 195 images in total\n",
      "extracting feature from image No. 36 , 195 images in total\n",
      "extracting feature from image No. 37 , 195 images in total\n",
      "extracting feature from image No. 38 , 195 images in total\n",
      "extracting feature from image No. 39 , 195 images in total\n",
      "extracting feature from image No. 40 , 195 images in total\n",
      "extracting feature from image No. 41 , 195 images in total\n",
      "extracting feature from image No. 42 , 195 images in total\n",
      "extracting feature from image No. 43 , 195 images in total\n",
      "extracting feature from image No. 44 , 195 images in total\n",
      "extracting feature from image No. 45 , 195 images in total\n",
      "extracting feature from image No. 46 , 195 images in total\n",
      "extracting feature from image No. 47 , 195 images in total\n",
      "extracting feature from image No. 48 , 195 images in total\n",
      "extracting feature from image No. 49 , 195 images in total\n",
      "extracting feature from image No. 50 , 195 images in total\n",
      "extracting feature from image No. 51 , 195 images in total\n",
      "extracting feature from image No. 52 , 195 images in total\n",
      "extracting feature from image No. 53 , 195 images in total\n",
      "extracting feature from image No. 54 , 195 images in total\n",
      "extracting feature from image No. 55 , 195 images in total\n",
      "extracting feature from image No. 56 , 195 images in total\n",
      "extracting feature from image No. 57 , 195 images in total\n",
      "extracting feature from image No. 58 , 195 images in total\n",
      "extracting feature from image No. 59 , 195 images in total\n",
      "extracting feature from image No. 60 , 195 images in total\n",
      "extracting feature from image No. 61 , 195 images in total\n",
      "extracting feature from image No. 62 , 195 images in total\n",
      "extracting feature from image No. 63 , 195 images in total\n",
      "extracting feature from image No. 64 , 195 images in total\n",
      "extracting feature from image No. 65 , 195 images in total\n",
      "extracting feature from image No. 66 , 195 images in total\n",
      "extracting feature from image No. 67 , 195 images in total\n",
      "extracting feature from image No. 68 , 195 images in total\n",
      "extracting feature from image No. 69 , 195 images in total\n",
      "extracting feature from image No. 70 , 195 images in total\n",
      "extracting feature from image No. 71 , 195 images in total\n",
      "extracting feature from image No. 72 , 195 images in total\n",
      "extracting feature from image No. 73 , 195 images in total\n",
      "extracting feature from image No. 74 , 195 images in total\n",
      "extracting feature from image No. 75 , 195 images in total\n",
      "extracting feature from image No. 76 , 195 images in total\n",
      "extracting feature from image No. 77 , 195 images in total\n",
      "extracting feature from image No. 78 , 195 images in total\n",
      "extracting feature from image No. 79 , 195 images in total\n",
      "extracting feature from image No. 80 , 195 images in total\n",
      "extracting feature from image No. 81 , 195 images in total\n",
      "extracting feature from image No. 82 , 195 images in total\n",
      "extracting feature from image No. 83 , 195 images in total\n",
      "extracting feature from image No. 84 , 195 images in total\n",
      "extracting feature from image No. 85 , 195 images in total\n",
      "extracting feature from image No. 86 , 195 images in total\n",
      "extracting feature from image No. 87 , 195 images in total\n",
      "extracting feature from image No. 88 , 195 images in total\n",
      "extracting feature from image No. 89 , 195 images in total\n",
      "extracting feature from image No. 90 , 195 images in total\n",
      "extracting feature from image No. 91 , 195 images in total\n",
      "extracting feature from image No. 92 , 195 images in total\n",
      "extracting feature from image No. 93 , 195 images in total\n",
      "extracting feature from image No. 94 , 195 images in total\n",
      "extracting feature from image No. 95 , 195 images in total\n",
      "extracting feature from image No. 96 , 195 images in total\n",
      "extracting feature from image No. 97 , 195 images in total\n",
      "extracting feature from image No. 98 , 195 images in total\n",
      "extracting feature from image No. 99 , 195 images in total\n",
      "extracting feature from image No. 100 , 195 images in total\n",
      "extracting feature from image No. 101 , 195 images in total\n",
      "extracting feature from image No. 102 , 195 images in total\n",
      "extracting feature from image No. 103 , 195 images in total\n",
      "extracting feature from image No. 104 , 195 images in total\n",
      "extracting feature from image No. 105 , 195 images in total\n",
      "extracting feature from image No. 106 , 195 images in total\n",
      "extracting feature from image No. 107 , 195 images in total\n",
      "extracting feature from image No. 108 , 195 images in total\n",
      "extracting feature from image No. 109 , 195 images in total\n",
      "extracting feature from image No. 110 , 195 images in total\n",
      "extracting feature from image No. 111 , 195 images in total\n",
      "extracting feature from image No. 112 , 195 images in total\n",
      "extracting feature from image No. 113 , 195 images in total\n",
      "extracting feature from image No. 114 , 195 images in total\n",
      "extracting feature from image No. 115 , 195 images in total\n",
      "extracting feature from image No. 116 , 195 images in total\n",
      "extracting feature from image No. 117 , 195 images in total\n",
      "extracting feature from image No. 118 , 195 images in total\n",
      "extracting feature from image No. 119 , 195 images in total\n",
      "extracting feature from image No. 120 , 195 images in total\n",
      "extracting feature from image No. 121 , 195 images in total\n",
      "extracting feature from image No. 122 , 195 images in total\n",
      "extracting feature from image No. 123 , 195 images in total\n",
      "extracting feature from image No. 124 , 195 images in total\n",
      "extracting feature from image No. 125 , 195 images in total\n",
      "extracting feature from image No. 126 , 195 images in total\n",
      "extracting feature from image No. 127 , 195 images in total\n",
      "extracting feature from image No. 128 , 195 images in total\n",
      "extracting feature from image No. 129 , 195 images in total\n",
      "extracting feature from image No. 130 , 195 images in total\n",
      "extracting feature from image No. 131 , 195 images in total\n",
      "extracting feature from image No. 132 , 195 images in total\n",
      "extracting feature from image No. 133 , 195 images in total\n",
      "extracting feature from image No. 134 , 195 images in total\n",
      "extracting feature from image No. 135 , 195 images in total\n",
      "extracting feature from image No. 136 , 195 images in total\n",
      "extracting feature from image No. 137 , 195 images in total\n",
      "extracting feature from image No. 138 , 195 images in total\n",
      "extracting feature from image No. 139 , 195 images in total\n",
      "extracting feature from image No. 140 , 195 images in total\n",
      "extracting feature from image No. 141 , 195 images in total\n",
      "extracting feature from image No. 142 , 195 images in total\n",
      "extracting feature from image No. 143 , 195 images in total\n",
      "extracting feature from image No. 144 , 195 images in total\n",
      "extracting feature from image No. 145 , 195 images in total\n",
      "extracting feature from image No. 146 , 195 images in total\n",
      "extracting feature from image No. 147 , 195 images in total\n",
      "extracting feature from image No. 148 , 195 images in total\n",
      "extracting feature from image No. 149 , 195 images in total\n",
      "extracting feature from image No. 150 , 195 images in total\n",
      "extracting feature from image No. 151 , 195 images in total\n",
      "extracting feature from image No. 152 , 195 images in total\n",
      "extracting feature from image No. 153 , 195 images in total\n",
      "extracting feature from image No. 154 , 195 images in total\n",
      "extracting feature from image No. 155 , 195 images in total\n",
      "extracting feature from image No. 156 , 195 images in total\n",
      "extracting feature from image No. 157 , 195 images in total\n",
      "extracting feature from image No. 158 , 195 images in total\n",
      "extracting feature from image No. 159 , 195 images in total\n",
      "extracting feature from image No. 160 , 195 images in total\n",
      "extracting feature from image No. 161 , 195 images in total\n",
      "extracting feature from image No. 162 , 195 images in total\n",
      "extracting feature from image No. 163 , 195 images in total\n",
      "extracting feature from image No. 164 , 195 images in total\n",
      "extracting feature from image No. 165 , 195 images in total\n",
      "extracting feature from image No. 166 , 195 images in total\n",
      "extracting feature from image No. 167 , 195 images in total\n",
      "extracting feature from image No. 168 , 195 images in total\n",
      "extracting feature from image No. 169 , 195 images in total\n",
      "extracting feature from image No. 170 , 195 images in total\n",
      "extracting feature from image No. 171 , 195 images in total\n",
      "extracting feature from image No. 172 , 195 images in total\n",
      "extracting feature from image No. 173 , 195 images in total\n",
      "extracting feature from image No. 174 , 195 images in total\n",
      "extracting feature from image No. 175 , 195 images in total\n",
      "extracting feature from image No. 176 , 195 images in total\n",
      "extracting feature from image No. 177 , 195 images in total\n",
      "extracting feature from image No. 178 , 195 images in total\n",
      "extracting feature from image No. 179 , 195 images in total\n",
      "extracting feature from image No. 180 , 195 images in total\n",
      "extracting feature from image No. 181 , 195 images in total\n",
      "extracting feature from image No. 182 , 195 images in total\n",
      "extracting feature from image No. 183 , 195 images in total\n",
      "extracting feature from image No. 184 , 195 images in total\n",
      "extracting feature from image No. 185 , 195 images in total\n",
      "extracting feature from image No. 186 , 195 images in total\n",
      "extracting feature from image No. 187 , 195 images in total\n",
      "extracting feature from image No. 188 , 195 images in total\n",
      "extracting feature from image No. 189 , 195 images in total\n",
      "extracting feature from image No. 190 , 195 images in total\n",
      "extracting feature from image No. 191 , 195 images in total\n",
      "extracting feature from image No. 192 , 195 images in total\n",
      "extracting feature from image No. 193 , 195 images in total\n",
      "extracting feature from image No. 194 , 195 images in total\n",
      "extracting feature from image No. 195 , 195 images in total\n",
      "--------------------------------------------------\n",
      "      writing feature extraction results ...\n",
      "--------------------------------------------------\n"
     ]
    }
   ],
   "source": [
    "#Extracting Features\n",
    "!python3 \"/content/drive/My Drive/CBIR/index.py\" -database \"/content/drive/My Drive/CBIR/DB_FINAL\" -index \"/content/drive/My Drive/CBIR/featureCNN1.h5\""
   ]
  },
  {
   "cell_type": "code",
   "execution_count": null,
   "metadata": {
    "colab": {
     "base_uri": "https://localhost:8080/"
    },
    "id": "1PWX7WbHRpXl",
    "outputId": "c4b91f8b-af70-4df9-ef88-dc2576927b6e"
   },
   "outputs": [
    {
     "name": "stdout",
     "output_type": "stream",
     "text": [
      "aeroplane_1.jpg  carrot_2.jpg\t   lungfish_1.jpg  plums_2.jpg\n",
      "aeroplane_2.jpg  ceiling_1.jpg\t   lungfish_2.jpg  rice_1.jpg\n",
      "avocados_1.jpg\t ceiling_2.jpg\t   lychee_1.jpg    rice_2.jpg\n",
      "avocados_2.jpg\t coffee_1.jpg\t   lychee_2.jpg    sparrow_1.jpg\n",
      "bike_1.jpg\t coffee_2.jpg\t   motor_1.jpg\t   sparrow_2.jpg\n",
      "bike_2.jpg\t guava_1.jpg\t   motor_2.jpg\t   spinach_1.jpg\n",
      "bus_1.jpg\t guava_2.jpg\t   mulberry_1.jpg  spinach_2.jpg\n",
      "bus_2.jpg\t hag_1.jpg\t   mulberry_2.jpg  straightner_1.jpg\n",
      "car_1.jpg\t hag_2.jpg\t   onions_1.jpg    straightner_2.jpg\n",
      "car_2.jpg\t helicopter_1.jpg  onions_2.jpg    trucks_1.jpg\n",
      "caravan_1.jpg\t helicopter_2.jpg  pigeon_1.jpg    trucks_2.jpg\n",
      "caravan_2.jpg\t hovercraft_1.jpg  pigeon_2.jpg\n",
      "carrot_1.jpg\t hovercraft_2.jpg  plums_1.jpg\n"
     ]
    }
   ],
   "source": [
    "!ls \"/content/drive/My Drive/CBIR/TEST_DB_FINAL\""
   ]
  },
  {
   "cell_type": "code",
   "execution_count": null,
   "metadata": {
    "colab": {
     "base_uri": "https://localhost:8080/"
    },
    "id": "K0ztrnnKQx9v",
    "outputId": "886e674b-0dbf-42df-9871-0fce04792876"
   },
   "outputs": [
    {
     "name": "stdout",
     "output_type": "stream",
     "text": [
      "--------------------------------------------------\n",
      "               searching starts\n",
      "--------------------------------------------------\n",
      "<Figure size 640x480 with 1 Axes>\n",
      "2021-12-05 06:47:03.699570: E tensorflow/stream_executor/cuda/cuda_driver.cc:271] failed call to cuInit: CUDA_ERROR_NO_DEVICE: no CUDA-capable device is detected\n",
      "top 3 images in order are:  ['car_4.jpg', 'trucks_5.jpg', 'trucks_9.jpg']\n"
     ]
    }
   ],
   "source": [
    "!python3 \"/content/drive/My Drive/CBIR/query_online.py\" -query \"/content/drive/My Drive/CBIR/TEST_DB_FINAL/trucks_2.jpg\" -index \"/content/drive/My Drive/CBIR/featureCNN1.h5\" -result \"/content/drive/My Drive/CBIR/DB_FINAL\""
   ]
  },
  {
   "cell_type": "code",
   "execution_count": null,
   "metadata": {
    "colab": {
     "base_uri": "https://localhost:8080/"
    },
    "id": "-FI533XkQyCM",
    "outputId": "374b0255-c249-421a-cfdb-5992d5328e81"
   },
   "outputs": [
    {
     "name": "stdout",
     "output_type": "stream",
     "text": [
      "['helicopter_2.jpg', 'pigeon_1.jpg', 'pigeon_2.jpg', 'aeroplane_2.jpg', 'aeroplane_1.jpg', 'helicopter_1.jpg', 'hovercraft_1.jpg', 'caravan_1.jpg', 'caravan_2.jpg', 'hovercraft_2.jpg', 'kiwi_1.jpg', 'kiwi_2.jpg', 'lychee_1.jpg', 'lychee_2.jpg', 'mulberry_1.jpg', 'mulberry_2.jpg', 'plums_2.jpg', 'plums_1.jpg', 'guava_1.jpg', 'sparrow_2.jpg', 'sparrow_1.jpg', 'guava_2.jpg', 'rice_2.jpg', 'straightner_2.jpg', 'avocados_1.jpg', 'rice_1.jpg', 'straightner_1.jpg', 'avocados_2.jpg', 'onions_2.jpg', 'coffee_1.jpg', 'carrot_2.jpg', 'onions_1.jpg', 'carrot_1.jpg', 'coffee_2.jpg', 'ceiling_1.jpg', 'ceiling_2.jpg', 'spinach_2.jpg', 'bike_1.jpg', 'cilantro_1.jpg', 'cilantro_2.jpg', 'motor_1.jpg', 'motor_2.jpg', 'spinach_1.jpg', 'bike_2.jpg', 'car_2.jpg', 'car_1.jpg', 'bus_1.jpg', 'bus_2.jpg', 'trucks_2.jpg', 'trucks_1.jpg', 'hag_2.jpg', 'lungfish_1.jpg', 'hag_1.jpg', 'lungfish_2.jpg']\n"
     ]
    }
   ],
   "source": [
    "import os \n",
    "l = os.listdir(\"/content/drive/My Drive/CBIR/TEST_DB_FINAL/\")\n",
    "print(l)"
   ]
  },
  {
   "cell_type": "code",
   "execution_count": null,
   "metadata": {
    "colab": {
     "base_uri": "https://localhost:8080/",
     "height": 263
    },
    "id": "TTrR4EL3UZDD",
    "outputId": "51da0bf1-a5d6-4934-8445-2ad1958b764e"
   },
   "outputs": [
    {
     "ename": "NameError",
     "evalue": "ignored",
     "output_type": "error",
     "traceback": [
      "\u001b[0;31m---------------------------------------------------------------------------\u001b[0m",
      "\u001b[0;31mNameError\u001b[0m                                 Traceback (most recent call last)",
      "\u001b[0;32m<ipython-input-2-5787ee0b2b47>\u001b[0m in \u001b[0;36m<module>\u001b[0;34m()\u001b[0m\n\u001b[1;32m      1\u001b[0m \u001b[0mdir\u001b[0m \u001b[0;34m=\u001b[0m \u001b[0;34m\"/content/drive/My Drive/CBIR/TEST_DB_FINAL/\"\u001b[0m\u001b[0;34m\u001b[0m\u001b[0;34m\u001b[0m\u001b[0m\n\u001b[0;32m----> 2\u001b[0;31m \u001b[0;32mfor\u001b[0m \u001b[0mi\u001b[0m \u001b[0;32min\u001b[0m \u001b[0ml\u001b[0m\u001b[0;34m:\u001b[0m\u001b[0;34m\u001b[0m\u001b[0;34m\u001b[0m\u001b[0m\n\u001b[0m\u001b[1;32m      3\u001b[0m   \u001b[0mfinal_dir\u001b[0m \u001b[0;34m=\u001b[0m \u001b[0mdir\u001b[0m\u001b[0;34m+\u001b[0m\u001b[0mi\u001b[0m\u001b[0;34m\u001b[0m\u001b[0;34m\u001b[0m\u001b[0m\n\u001b[1;32m      4\u001b[0m   \u001b[0;31m#print(final_dir)\u001b[0m\u001b[0;34m\u001b[0m\u001b[0;34m\u001b[0m\u001b[0;34m\u001b[0m\u001b[0m\n\u001b[1;32m      5\u001b[0m   \u001b[0;31m#!python3 \"/content/drive/My Drive/CBIR/query_online.py\" -query final_dir -index \"/content/drive/My Drive/CBIR/featureCNN1.h5\" -result \"/content/drive/My Drive/CBIR/DB_FINAL\"\u001b[0m\u001b[0;34m\u001b[0m\u001b[0;34m\u001b[0m\u001b[0;34m\u001b[0m\u001b[0m\n",
      "\u001b[0;31mNameError\u001b[0m: name 'l' is not defined"
     ]
    }
   ],
   "source": [
    "dir = \"/content/drive/My Drive/CBIR/TEST_DB_FINAL/\"\n",
    "for i in l:\n",
    "  final_dir = dir+i\n",
    "  #print(final_dir)\n",
    "  #!python3 \"/content/drive/My Drive/CBIR/query_online.py\" -query final_dir -index \"/content/drive/My Drive/CBIR/featureCNN1.h5\" -result \"/content/drive/My Drive/CBIR/DB_FINAL\"\n",
    "  #print(\" \")"
   ]
  },
  {
   "cell_type": "code",
   "execution_count": null,
   "metadata": {
    "colab": {
     "base_uri": "https://localhost:8080/"
    },
    "id": "INULLE1nVIEM",
    "outputId": "cf5a725b-d14b-4a7c-f781-7c0a7cc690cc"
   },
   "outputs": [
    {
     "name": "stdout",
     "output_type": "stream",
     "text": [
      "/content/drive/My Drive/CBIR/TEST_DB_FINAL/helicopter_2.jpg\n",
      "--------------------------------------------------\n",
      "               searching starts\n",
      "--------------------------------------------------\n",
      "Traceback (most recent call last):\n",
      "  File \"/content/drive/My Drive/CBIR/query_online.py\", line 40, in <module>\n",
      "    queryImg = mpimg.imread(queryDir)\n",
      "  File \"/usr/local/lib/python3.7/dist-packages/matplotlib/image.py\", line 1464, in imread\n",
      "    with Image.open(fname) as image:\n",
      "  File \"/usr/local/lib/python3.7/dist-packages/PIL/Image.py\", line 2843, in open\n",
      "    fp = builtins.open(filename, \"rb\")\n",
      "FileNotFoundError: [Errno 2] No such file or directory: 'final_dir'\n",
      " \n",
      "/content/drive/My Drive/CBIR/TEST_DB_FINAL/pigeon_1.jpg\n",
      "--------------------------------------------------\n",
      "               searching starts\n",
      "--------------------------------------------------\n",
      "Traceback (most recent call last):\n",
      "  File \"/content/drive/My Drive/CBIR/query_online.py\", line 40, in <module>\n",
      "    queryImg = mpimg.imread(queryDir)\n",
      "  File \"/usr/local/lib/python3.7/dist-packages/matplotlib/image.py\", line 1464, in imread\n",
      "    with Image.open(fname) as image:\n",
      "  File \"/usr/local/lib/python3.7/dist-packages/PIL/Image.py\", line 2843, in open\n",
      "    fp = builtins.open(filename, \"rb\")\n",
      "FileNotFoundError: [Errno 2] No such file or directory: 'final_dir'\n",
      " \n",
      "/content/drive/My Drive/CBIR/TEST_DB_FINAL/pigeon_2.jpg\n",
      "Traceback (most recent call last):\n",
      "  File \"/content/drive/My Drive/CBIR/query_online.py\", line 3, in <module>\n",
      "    from extract_cnn_vgg16_keras import VGGNet\n",
      "  File \"/content/drive/My Drive/CBIR/extract_cnn_vgg16_keras.py\", line 7, in <module>\n",
      "    from keras.applications.vgg16 import VGG16\n",
      "  File \"/usr/local/lib/python3.7/dist-packages/keras/__init__.py\", line 21, in <module>\n",
      "    from tensorflow.python import tf2\n",
      "  File \"/usr/local/lib/python3.7/dist-packages/tensorflow/__init__.py\", line 55, in <module>\n",
      "  File \"/usr/local/lib/python3.7/dist-packages/tensorflow/_api/v2/compat/__init__.py\", line 39, in <module>\n",
      "    from . import v1\n",
      "  File \"/usr/local/lib/python3.7/dist-packages/tensorflow/_api/v2/compat/v1/__init__.py\", line 434, in <module>\n",
      "    from tensorflow.python.ops.gen_spectral_ops import fft\n",
      "  File \"<frozen importlib._bootstrap>\", line 1009, in _handle_fromlist\n",
      "KeyboardInterrupt\n",
      " \n",
      "/content/drive/My Drive/CBIR/TEST_DB_FINAL/aeroplane_2.jpg\n",
      "--------------------------------------------------\n",
      "               searching starts\n",
      "--------------------------------------------------\n",
      "Traceback (most recent call last):\n",
      "  File \"/content/drive/My Drive/CBIR/query_online.py\", line 40, in <module>\n",
      "    queryImg = mpimg.imread(queryDir)\n",
      "  File \"/usr/local/lib/python3.7/dist-packages/matplotlib/image.py\", line 1464, in imread\n",
      "    with Image.open(fname) as image:\n",
      "  File \"/usr/local/lib/python3.7/dist-packages/PIL/Image.py\", line 2843, in open\n",
      "    fp = builtins.open(filename, \"rb\")\n",
      "FileNotFoundError: [Errno 2] No such file or directory: 'final_dir'\n",
      " \n",
      "/content/drive/My Drive/CBIR/TEST_DB_FINAL/aeroplane_1.jpg\n",
      "--------------------------------------------------\n",
      "               searching starts\n",
      "--------------------------------------------------\n",
      "Traceback (most recent call last):\n",
      "  File \"/content/drive/My Drive/CBIR/query_online.py\", line 40, in <module>\n",
      "    queryImg = mpimg.imread(queryDir)\n",
      "  File \"/usr/local/lib/python3.7/dist-packages/matplotlib/image.py\", line 1464, in imread\n",
      "    with Image.open(fname) as image:\n",
      "  File \"/usr/local/lib/python3.7/dist-packages/PIL/Image.py\", line 2843, in open\n",
      "    fp = builtins.open(filename, \"rb\")\n",
      "FileNotFoundError: [Errno 2] No such file or directory: 'final_dir'\n",
      " \n",
      "/content/drive/My Drive/CBIR/TEST_DB_FINAL/helicopter_1.jpg\n",
      "--------------------------------------------------\n",
      "               searching starts\n",
      "--------------------------------------------------\n",
      "Traceback (most recent call last):\n",
      "  File \"/content/drive/My Drive/CBIR/query_online.py\", line 40, in <module>\n",
      "    queryImg = mpimg.imread(queryDir)\n",
      "  File \"/usr/local/lib/python3.7/dist-packages/matplotlib/image.py\", line 1464, in imread\n",
      "    with Image.open(fname) as image:\n",
      "  File \"/usr/local/lib/python3.7/dist-packages/PIL/Image.py\", line 2843, in open\n",
      "    fp = builtins.open(filename, \"rb\")\n",
      "FileNotFoundError: [Errno 2] No such file or directory: 'final_dir'\n",
      " \n",
      "/content/drive/My Drive/CBIR/TEST_DB_FINAL/hovercraft_1.jpg\n",
      "--------------------------------------------------\n",
      "               searching starts\n",
      "--------------------------------------------------\n",
      "Traceback (most recent call last):\n",
      "  File \"/content/drive/My Drive/CBIR/query_online.py\", line 40, in <module>\n",
      "    queryImg = mpimg.imread(queryDir)\n",
      "  File \"/usr/local/lib/python3.7/dist-packages/matplotlib/image.py\", line 1464, in imread\n",
      "    with Image.open(fname) as image:\n",
      "  File \"/usr/local/lib/python3.7/dist-packages/PIL/Image.py\", line 2843, in open\n",
      "    fp = builtins.open(filename, \"rb\")\n",
      "FileNotFoundError: [Errno 2] No such file or directory: 'final_dir'\n",
      " \n",
      "/content/drive/My Drive/CBIR/TEST_DB_FINAL/caravan_1.jpg\n",
      "--------------------------------------------------\n",
      "               searching starts\n",
      "--------------------------------------------------\n",
      "Traceback (most recent call last):\n",
      "  File \"/content/drive/My Drive/CBIR/query_online.py\", line 40, in <module>\n",
      "    queryImg = mpimg.imread(queryDir)\n",
      "  File \"/usr/local/lib/python3.7/dist-packages/matplotlib/image.py\", line 1464, in imread\n",
      "    with Image.open(fname) as image:\n",
      "  File \"/usr/local/lib/python3.7/dist-packages/PIL/Image.py\", line 2843, in open\n",
      "    fp = builtins.open(filename, \"rb\")\n",
      "FileNotFoundError: [Errno 2] No such file or directory: 'final_dir'\n",
      " \n",
      "/content/drive/My Drive/CBIR/TEST_DB_FINAL/caravan_2.jpg\n"
     ]
    }
   ],
   "source": [
    "dir = \"/content/drive/My Drive/CBIR/TEST_DB_FINAL/\"\n",
    "for i in l:\n",
    "  final_dir = dir+i\n",
    "  print(final_dir)\n",
    "  !python3 \"/content/drive/My Drive/CBIR/query_online.py\" -query final_dir -index \"/content/drive/My Drive/CBIR/featureCNN1.h5\" -result \"/content/drive/My Drive/CBIR/DB_FINAL\"\n",
    "  print(\" \")"
   ]
  }
 ],
 "metadata": {
  "colab": {
   "collapsed_sections": [],
   "name": "CBIR1.ipynb",
   "provenance": []
  },
  "kernelspec": {
   "display_name": "Python 3 (ipykernel)",
   "language": "python",
   "name": "python3"
  },
  "language_info": {
   "codemirror_mode": {
    "name": "ipython",
    "version": 3
   },
   "file_extension": ".py",
   "mimetype": "text/x-python",
   "name": "python",
   "nbconvert_exporter": "python",
   "pygments_lexer": "ipython3",
   "version": "3.7.9"
  }
 },
 "nbformat": 4,
 "nbformat_minor": 1
}
