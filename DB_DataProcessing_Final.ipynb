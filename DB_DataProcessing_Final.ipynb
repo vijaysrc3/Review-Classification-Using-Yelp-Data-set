{
 "cells": [
  {
   "cell_type": "code",
   "execution_count": 1,
   "metadata": {
    "executionInfo": {
     "elapsed": 5015,
     "status": "ok",
     "timestamp": 1638880705173,
     "user": {
      "displayName": "kurra bhavana",
      "photoUrl": "https://lh3.googleusercontent.com/a/default-user=s64",
      "userId": "08529290344632635528"
     },
     "user_tz": -330
    },
    "id": "y384T_bj5hP6"
   },
   "outputs": [],
   "source": [
    "import h5py\n",
    "import os\n",
    "import pandas as pd\n",
    "import keras\n",
    "import matplotlib.pyplot as plt\n",
    "import numpy as np\n",
    "import nltk\n",
    "from nltk import word_tokenize, sent_tokenize\n",
    "from nltk.corpus import stopwords\n",
    "from nltk.stem import LancasterStemmer, WordNetLemmatizer, PorterStemmer\n",
    "from wordcloud import WordCloud, STOPWORDS\n",
    "from textblob import Word\n",
    "#nltk.download(\"stopwords\")"
   ]
  },
  {
   "cell_type": "code",
   "execution_count": 2,
   "metadata": {
    "colab": {
     "base_uri": "https://localhost:8080/"
    },
    "executionInfo": {
     "elapsed": 261,
     "status": "ok",
     "timestamp": 1638880741836,
     "user": {
      "displayName": "kurra bhavana",
      "photoUrl": "https://lh3.googleusercontent.com/a/default-user=s64",
      "userId": "08529290344632635528"
     },
     "user_tz": -330
    },
    "id": "QNjq0cPu5vVo",
    "outputId": "233fbcb7-1966-491f-c397-c1d24084384f"
   },
   "outputs": [
    {
     "name": "stdout",
     "output_type": "stream",
     "text": [
      "[nltk_data] Downloading package stopwords to /root/nltk_data...\n",
      "[nltk_data]   Unzipping corpora/stopwords.zip.\n"
     ]
    },
    {
     "data": {
      "text/plain": [
       "True"
      ]
     },
     "execution_count": 2,
     "metadata": {},
     "output_type": "execute_result"
    }
   ],
   "source": [
    "nltk.download(\"stopwords\")"
   ]
  },
  {
   "cell_type": "code",
   "execution_count": 86,
   "metadata": {
    "colab": {
     "base_uri": "https://localhost:8080/"
    },
    "executionInfo": {
     "elapsed": 2241,
     "status": "ok",
     "timestamp": 1638886878675,
     "user": {
      "displayName": "kurra bhavana",
      "photoUrl": "https://lh3.googleusercontent.com/a/default-user=s64",
      "userId": "08529290344632635528"
     },
     "user_tz": -330
    },
    "id": "10HjXAIA53pF",
    "outputId": "4af58cb1-b0c7-4a47-9d36-3acdcf0e17aa"
   },
   "outputs": [
    {
     "name": "stdout",
     "output_type": "stream",
     "text": [
      "Mounted at /content/drive\n"
     ]
    }
   ],
   "source": [
    "from google.colab import drive\n",
    "drive.mount('/content/drive', force_remount=True)"
   ]
  },
  {
   "cell_type": "code",
   "execution_count": 87,
   "metadata": {
    "colab": {
     "base_uri": "https://localhost:8080/"
    },
    "executionInfo": {
     "elapsed": 333,
     "status": "ok",
     "timestamp": 1638886878998,
     "user": {
      "displayName": "kurra bhavana",
      "photoUrl": "https://lh3.googleusercontent.com/a/default-user=s64",
      "userId": "08529290344632635528"
     },
     "user_tz": -330
    },
    "id": "DtESqMVM64zy",
    "outputId": "a02962d2-bc8c-4d68-b88d-12ae361f3ce4"
   },
   "outputs": [
    {
     "name": "stdout",
     "output_type": "stream",
     "text": [
      "review1.csv  review3.csv  review5.csv  review7.csv\n",
      "review2.csv  review4.csv  review6.csv\n"
     ]
    }
   ],
   "source": [
    "!ls \"/content/drive/My Drive/DB/Review/review\""
   ]
  },
  {
   "cell_type": "code",
   "execution_count": 88,
   "metadata": {
    "colab": {
     "base_uri": "https://localhost:8080/"
    },
    "executionInfo": {
     "elapsed": 8,
     "status": "ok",
     "timestamp": 1638886878999,
     "user": {
      "displayName": "kurra bhavana",
      "photoUrl": "https://lh3.googleusercontent.com/a/default-user=s64",
      "userId": "08529290344632635528"
     },
     "user_tz": -330
    },
    "id": "za5hsbWM7L-P",
    "outputId": "35b8ac49-bf0a-49c8-9a94-1e03f95f1f4e"
   },
   "outputs": [
    {
     "name": "stdout",
     "output_type": "stream",
     "text": [
      "['review1.csv', 'review2.csv', 'review3.csv', 'review4.csv', 'review5.csv', 'review6.csv', 'review7.csv', '.DS_Store']\n"
     ]
    }
   ],
   "source": [
    "l = os.listdir('/content/drive/My Drive/DB/Review/review')\n",
    "print(l)"
   ]
  },
  {
   "cell_type": "code",
   "execution_count": 65,
   "metadata": {
    "colab": {
     "base_uri": "https://localhost:8080/",
     "height": 362
    },
    "executionInfo": {
     "elapsed": 16996,
     "status": "ok",
     "timestamp": 1638885882767,
     "user": {
      "displayName": "kurra bhavana",
      "photoUrl": "https://lh3.googleusercontent.com/a/default-user=s64",
      "userId": "08529290344632635528"
     },
     "user_tz": -330
    },
    "id": "asbmAcb77PbX",
    "outputId": "43f1626c-8e1a-45a9-a32e-212232677094"
   },
   "outputs": [
    {
     "name": "stdout",
     "output_type": "stream",
     "text": [
      "<class 'pandas.core.frame.DataFrame'>\n",
      "Int64Index: 1000000 entries, 0 to 999999\n",
      "Data columns (total 2 columns):\n",
      " #   Column  Non-Null Count    Dtype \n",
      "---  ------  --------------    ----- \n",
      " 0   text    1000000 non-null  object\n",
      " 1   stars   1000000 non-null  int64 \n",
      "dtypes: int64(1), object(1)\n",
      "memory usage: 22.9+ MB\n"
     ]
    },
    {
     "data": {
      "text/html": [
       "<div>\n",
       "<style scoped>\n",
       "    .dataframe tbody tr th:only-of-type {\n",
       "        vertical-align: middle;\n",
       "    }\n",
       "\n",
       "    .dataframe tbody tr th {\n",
       "        vertical-align: top;\n",
       "    }\n",
       "\n",
       "    .dataframe thead th {\n",
       "        text-align: right;\n",
       "    }\n",
       "</style>\n",
       "<table border=\"1\" class=\"dataframe\">\n",
       "  <thead>\n",
       "    <tr style=\"text-align: right;\">\n",
       "      <th></th>\n",
       "      <th>text</th>\n",
       "      <th>stars</th>\n",
       "    </tr>\n",
       "  </thead>\n",
       "  <tbody>\n",
       "    <tr>\n",
       "      <th>0</th>\n",
       "      <td>Apparently Prides Osteria had a rough summer a...</td>\n",
       "      <td>4</td>\n",
       "    </tr>\n",
       "    <tr>\n",
       "      <th>1</th>\n",
       "      <td>This store is pretty good. Not as great as Wal...</td>\n",
       "      <td>4</td>\n",
       "    </tr>\n",
       "    <tr>\n",
       "      <th>2</th>\n",
       "      <td>I called WVM on the recommendation of a couple...</td>\n",
       "      <td>5</td>\n",
       "    </tr>\n",
       "    <tr>\n",
       "      <th>3</th>\n",
       "      <td>I've stayed at many Marriott and Renaissance M...</td>\n",
       "      <td>2</td>\n",
       "    </tr>\n",
       "    <tr>\n",
       "      <th>4</th>\n",
       "      <td>The food is always great here. The service fro...</td>\n",
       "      <td>4</td>\n",
       "    </tr>\n",
       "  </tbody>\n",
       "</table>\n",
       "</div>"
      ],
      "text/plain": [
       "                                                text  stars\n",
       "0  Apparently Prides Osteria had a rough summer a...      4\n",
       "1  This store is pretty good. Not as great as Wal...      4\n",
       "2  I called WVM on the recommendation of a couple...      5\n",
       "3  I've stayed at many Marriott and Renaissance M...      2\n",
       "4  The food is always great here. The service fro...      4"
      ]
     },
     "execution_count": 65,
     "metadata": {},
     "output_type": "execute_result"
    }
   ],
   "source": [
    "#Processing Review1 and Review2 files individually \n",
    "dir = '/content/drive/My Drive/DB/Review/review/'+'review1.csv'\n",
    "df = pd.read_csv(dir, sep=',')\n",
    "df.drop(columns='Unnamed: 0', axis=1, inplace=True)\n",
    "df.dropna(inplace=True)\n",
    "df.info()\n",
    "df.head()        "
   ]
  },
  {
   "cell_type": "code",
   "execution_count": 66,
   "metadata": {
    "colab": {
     "base_uri": "https://localhost:8080/",
     "height": 380
    },
    "executionInfo": {
     "elapsed": 456,
     "status": "ok",
     "timestamp": 1638885883203,
     "user": {
      "displayName": "kurra bhavana",
      "photoUrl": "https://lh3.googleusercontent.com/a/default-user=s64",
      "userId": "08529290344632635528"
     },
     "user_tz": -330
    },
    "id": "DOO2BIW17TR9",
    "outputId": "de3268f3-51db-4ef9-b382-72f3c9a0ec14"
   },
   "outputs": [
    {
     "name": "stdout",
     "output_type": "stream",
     "text": [
      "<class 'pandas.core.frame.DataFrame'>\n",
      "Int64Index: 1000000 entries, 0 to 999999\n",
      "Data columns (total 3 columns):\n",
      " #   Column  Non-Null Count    Dtype \n",
      "---  ------  --------------    ----- \n",
      " 0   text    1000000 non-null  object\n",
      " 1   stars   1000000 non-null  int64 \n",
      " 2   text1   1000000 non-null  object\n",
      "dtypes: int64(1), object(2)\n",
      "memory usage: 30.5+ MB\n"
     ]
    },
    {
     "data": {
      "text/html": [
       "<div>\n",
       "<style scoped>\n",
       "    .dataframe tbody tr th:only-of-type {\n",
       "        vertical-align: middle;\n",
       "    }\n",
       "\n",
       "    .dataframe tbody tr th {\n",
       "        vertical-align: top;\n",
       "    }\n",
       "\n",
       "    .dataframe thead th {\n",
       "        text-align: right;\n",
       "    }\n",
       "</style>\n",
       "<table border=\"1\" class=\"dataframe\">\n",
       "  <thead>\n",
       "    <tr style=\"text-align: right;\">\n",
       "      <th></th>\n",
       "      <th>text</th>\n",
       "      <th>stars</th>\n",
       "      <th>text1</th>\n",
       "    </tr>\n",
       "  </thead>\n",
       "  <tbody>\n",
       "    <tr>\n",
       "      <th>0</th>\n",
       "      <td>Apparently Prides Osteria had a rough summer a...</td>\n",
       "      <td>4</td>\n",
       "      <td>Apparently Prides Osteria had a rough summer a...</td>\n",
       "    </tr>\n",
       "    <tr>\n",
       "      <th>1</th>\n",
       "      <td>This store is pretty good. Not as great as Wal...</td>\n",
       "      <td>4</td>\n",
       "      <td>This store is pretty good. Not as great as Wal...</td>\n",
       "    </tr>\n",
       "    <tr>\n",
       "      <th>2</th>\n",
       "      <td>I called WVM on the recommendation of a couple...</td>\n",
       "      <td>5</td>\n",
       "      <td>I called WVM on the recommendation of a couple...</td>\n",
       "    </tr>\n",
       "    <tr>\n",
       "      <th>3</th>\n",
       "      <td>I've stayed at many Marriott and Renaissance M...</td>\n",
       "      <td>2</td>\n",
       "      <td>I've stayed at many Marriott and Renaissance M...</td>\n",
       "    </tr>\n",
       "    <tr>\n",
       "      <th>4</th>\n",
       "      <td>The food is always great here. The service fro...</td>\n",
       "      <td>4</td>\n",
       "      <td>The food is always great here. The service fro...</td>\n",
       "    </tr>\n",
       "  </tbody>\n",
       "</table>\n",
       "</div>"
      ],
      "text/plain": [
       "                                                text  ...                                              text1\n",
       "0  Apparently Prides Osteria had a rough summer a...  ...  Apparently Prides Osteria had a rough summer a...\n",
       "1  This store is pretty good. Not as great as Wal...  ...  This store is pretty good. Not as great as Wal...\n",
       "2  I called WVM on the recommendation of a couple...  ...  I called WVM on the recommendation of a couple...\n",
       "3  I've stayed at many Marriott and Renaissance M...  ...  I've stayed at many Marriott and Renaissance M...\n",
       "4  The food is always great here. The service fro...  ...  The food is always great here. The service fro...\n",
       "\n",
       "[5 rows x 3 columns]"
      ]
     },
     "execution_count": 66,
     "metadata": {},
     "output_type": "execute_result"
    }
   ],
   "source": [
    "df['text1'] = df['text']\n",
    "df.info()\n",
    "df.head()"
   ]
  },
  {
   "cell_type": "code",
   "execution_count": 67,
   "metadata": {
    "colab": {
     "base_uri": "https://localhost:8080/",
     "height": 380
    },
    "executionInfo": {
     "elapsed": 24010,
     "status": "ok",
     "timestamp": 1638885907203,
     "user": {
      "displayName": "kurra bhavana",
      "photoUrl": "https://lh3.googleusercontent.com/a/default-user=s64",
      "userId": "08529290344632635528"
     },
     "user_tz": -330
    },
    "id": "xDWv9Val7W05",
    "outputId": "1e675432-9428-47ef-8e8f-b4eb502ae3df"
   },
   "outputs": [
    {
     "name": "stdout",
     "output_type": "stream",
     "text": [
      "<class 'pandas.core.frame.DataFrame'>\n",
      "Int64Index: 1000000 entries, 0 to 999999\n",
      "Data columns (total 3 columns):\n",
      " #   Column  Non-Null Count    Dtype \n",
      "---  ------  --------------    ----- \n",
      " 0   text    1000000 non-null  object\n",
      " 1   stars   1000000 non-null  int64 \n",
      " 2   text1   1000000 non-null  object\n",
      "dtypes: int64(1), object(2)\n",
      "memory usage: 30.5+ MB\n"
     ]
    },
    {
     "data": {
      "text/html": [
       "<div>\n",
       "<style scoped>\n",
       "    .dataframe tbody tr th:only-of-type {\n",
       "        vertical-align: middle;\n",
       "    }\n",
       "\n",
       "    .dataframe tbody tr th {\n",
       "        vertical-align: top;\n",
       "    }\n",
       "\n",
       "    .dataframe thead th {\n",
       "        text-align: right;\n",
       "    }\n",
       "</style>\n",
       "<table border=\"1\" class=\"dataframe\">\n",
       "  <thead>\n",
       "    <tr style=\"text-align: right;\">\n",
       "      <th></th>\n",
       "      <th>text</th>\n",
       "      <th>stars</th>\n",
       "      <th>text1</th>\n",
       "    </tr>\n",
       "  </thead>\n",
       "  <tbody>\n",
       "    <tr>\n",
       "      <th>0</th>\n",
       "      <td>Apparently Prides Osteria had a rough summer a...</td>\n",
       "      <td>4</td>\n",
       "      <td>apparently prides osteria had a rough summer a...</td>\n",
       "    </tr>\n",
       "    <tr>\n",
       "      <th>1</th>\n",
       "      <td>This store is pretty good. Not as great as Wal...</td>\n",
       "      <td>4</td>\n",
       "      <td>this store is pretty good. not as great as wal...</td>\n",
       "    </tr>\n",
       "    <tr>\n",
       "      <th>2</th>\n",
       "      <td>I called WVM on the recommendation of a couple...</td>\n",
       "      <td>5</td>\n",
       "      <td>i called wvm on the recommendation of a couple...</td>\n",
       "    </tr>\n",
       "    <tr>\n",
       "      <th>3</th>\n",
       "      <td>I've stayed at many Marriott and Renaissance M...</td>\n",
       "      <td>2</td>\n",
       "      <td>i've stayed at many marriott and renaissance m...</td>\n",
       "    </tr>\n",
       "    <tr>\n",
       "      <th>4</th>\n",
       "      <td>The food is always great here. The service fro...</td>\n",
       "      <td>4</td>\n",
       "      <td>the food is always great here. the service fro...</td>\n",
       "    </tr>\n",
       "  </tbody>\n",
       "</table>\n",
       "</div>"
      ],
      "text/plain": [
       "                                                text  ...                                              text1\n",
       "0  Apparently Prides Osteria had a rough summer a...  ...  apparently prides osteria had a rough summer a...\n",
       "1  This store is pretty good. Not as great as Wal...  ...  this store is pretty good. not as great as wal...\n",
       "2  I called WVM on the recommendation of a couple...  ...  i called wvm on the recommendation of a couple...\n",
       "3  I've stayed at many Marriott and Renaissance M...  ...  i've stayed at many marriott and renaissance m...\n",
       "4  The food is always great here. The service fro...  ...  the food is always great here. the service fro...\n",
       "\n",
       "[5 rows x 3 columns]"
      ]
     },
     "execution_count": 67,
     "metadata": {},
     "output_type": "execute_result"
    }
   ],
   "source": [
    "#1. Lowercase all reviews\n",
    "df['text1'] = df['text1'].apply(lambda x: \" \".join(x.lower() for x in x.split()))\n",
    "df.info()\n",
    "df.head()"
   ]
  },
  {
   "cell_type": "code",
   "execution_count": 68,
   "metadata": {
    "colab": {
     "base_uri": "https://localhost:8080/",
     "height": 380
    },
    "executionInfo": {
     "elapsed": 15754,
     "status": "ok",
     "timestamp": 1638885922934,
     "user": {
      "displayName": "kurra bhavana",
      "photoUrl": "https://lh3.googleusercontent.com/a/default-user=s64",
      "userId": "08529290344632635528"
     },
     "user_tz": -330
    },
    "id": "jhj9-CwN7i2U",
    "outputId": "293742ea-e9ac-43aa-f6c2-69d1a51efbb4"
   },
   "outputs": [
    {
     "name": "stdout",
     "output_type": "stream",
     "text": [
      "<class 'pandas.core.frame.DataFrame'>\n",
      "Int64Index: 1000000 entries, 0 to 999999\n",
      "Data columns (total 3 columns):\n",
      " #   Column  Non-Null Count    Dtype \n",
      "---  ------  --------------    ----- \n",
      " 0   text    1000000 non-null  object\n",
      " 1   stars   1000000 non-null  int64 \n",
      " 2   text1   1000000 non-null  object\n",
      "dtypes: int64(1), object(2)\n",
      "memory usage: 30.5+ MB\n"
     ]
    },
    {
     "data": {
      "text/html": [
       "<div>\n",
       "<style scoped>\n",
       "    .dataframe tbody tr th:only-of-type {\n",
       "        vertical-align: middle;\n",
       "    }\n",
       "\n",
       "    .dataframe tbody tr th {\n",
       "        vertical-align: top;\n",
       "    }\n",
       "\n",
       "    .dataframe thead th {\n",
       "        text-align: right;\n",
       "    }\n",
       "</style>\n",
       "<table border=\"1\" class=\"dataframe\">\n",
       "  <thead>\n",
       "    <tr style=\"text-align: right;\">\n",
       "      <th></th>\n",
       "      <th>text</th>\n",
       "      <th>stars</th>\n",
       "      <th>text1</th>\n",
       "    </tr>\n",
       "  </thead>\n",
       "  <tbody>\n",
       "    <tr>\n",
       "      <th>0</th>\n",
       "      <td>Apparently Prides Osteria had a rough summer a...</td>\n",
       "      <td>4</td>\n",
       "      <td>apparently prides osteria had a rough summer a...</td>\n",
       "    </tr>\n",
       "    <tr>\n",
       "      <th>1</th>\n",
       "      <td>This store is pretty good. Not as great as Wal...</td>\n",
       "      <td>4</td>\n",
       "      <td>this store is pretty good not as great as walm...</td>\n",
       "    </tr>\n",
       "    <tr>\n",
       "      <th>2</th>\n",
       "      <td>I called WVM on the recommendation of a couple...</td>\n",
       "      <td>5</td>\n",
       "      <td>i called wvm on the recommendation of a couple...</td>\n",
       "    </tr>\n",
       "    <tr>\n",
       "      <th>3</th>\n",
       "      <td>I've stayed at many Marriott and Renaissance M...</td>\n",
       "      <td>2</td>\n",
       "      <td>ive stayed at many marriott and renaissance ma...</td>\n",
       "    </tr>\n",
       "    <tr>\n",
       "      <th>4</th>\n",
       "      <td>The food is always great here. The service fro...</td>\n",
       "      <td>4</td>\n",
       "      <td>the food is always great here the service from...</td>\n",
       "    </tr>\n",
       "  </tbody>\n",
       "</table>\n",
       "</div>"
      ],
      "text/plain": [
       "                                                text  ...                                              text1\n",
       "0  Apparently Prides Osteria had a rough summer a...  ...  apparently prides osteria had a rough summer a...\n",
       "1  This store is pretty good. Not as great as Wal...  ...  this store is pretty good not as great as walm...\n",
       "2  I called WVM on the recommendation of a couple...  ...  i called wvm on the recommendation of a couple...\n",
       "3  I've stayed at many Marriott and Renaissance M...  ...  ive stayed at many marriott and renaissance ma...\n",
       "4  The food is always great here. The service fro...  ...  the food is always great here the service from...\n",
       "\n",
       "[5 rows x 3 columns]"
      ]
     },
     "execution_count": 68,
     "metadata": {},
     "output_type": "execute_result"
    }
   ],
   "source": [
    "#2. remove punctuation\n",
    "import re\n",
    "df['text1'] = df['text1'].apply(lambda x: re.sub(r'[^\\w\\s]','',x)) #words or white spaces\n",
    "df.info()\n",
    "df.head()"
   ]
  },
  {
   "cell_type": "code",
   "execution_count": 69,
   "metadata": {
    "colab": {
     "base_uri": "https://localhost:8080/",
     "height": 397
    },
    "executionInfo": {
     "elapsed": 895,
     "status": "ok",
     "timestamp": 1638885923821,
     "user": {
      "displayName": "kurra bhavana",
      "photoUrl": "https://lh3.googleusercontent.com/a/default-user=s64",
      "userId": "08529290344632635528"
     },
     "user_tz": -330
    },
    "id": "4NhSSp56-klw",
    "outputId": "efee0fd8-6204-4102-b07f-069cab78fdf9"
   },
   "outputs": [
    {
     "name": "stdout",
     "output_type": "stream",
     "text": [
      "<class 'pandas.core.frame.DataFrame'>\n",
      "Int64Index: 1000000 entries, 0 to 999999\n",
      "Data columns (total 4 columns):\n",
      " #   Column        Non-Null Count    Dtype \n",
      "---  ------        --------------    ----- \n",
      " 0   text          1000000 non-null  object\n",
      " 1   stars         1000000 non-null  int64 \n",
      " 2   text1         1000000 non-null  object\n",
      " 3   text1_length  1000000 non-null  int64 \n",
      "dtypes: int64(2), object(2)\n",
      "memory usage: 38.1+ MB\n"
     ]
    },
    {
     "data": {
      "text/html": [
       "<div>\n",
       "<style scoped>\n",
       "    .dataframe tbody tr th:only-of-type {\n",
       "        vertical-align: middle;\n",
       "    }\n",
       "\n",
       "    .dataframe tbody tr th {\n",
       "        vertical-align: top;\n",
       "    }\n",
       "\n",
       "    .dataframe thead th {\n",
       "        text-align: right;\n",
       "    }\n",
       "</style>\n",
       "<table border=\"1\" class=\"dataframe\">\n",
       "  <thead>\n",
       "    <tr style=\"text-align: right;\">\n",
       "      <th></th>\n",
       "      <th>text</th>\n",
       "      <th>stars</th>\n",
       "      <th>text1</th>\n",
       "      <th>text1_length</th>\n",
       "    </tr>\n",
       "  </thead>\n",
       "  <tbody>\n",
       "    <tr>\n",
       "      <th>0</th>\n",
       "      <td>Apparently Prides Osteria had a rough summer a...</td>\n",
       "      <td>4</td>\n",
       "      <td>apparently prides osteria had a rough summer a...</td>\n",
       "      <td>1825</td>\n",
       "    </tr>\n",
       "    <tr>\n",
       "      <th>1</th>\n",
       "      <td>This store is pretty good. Not as great as Wal...</td>\n",
       "      <td>4</td>\n",
       "      <td>this store is pretty good not as great as walm...</td>\n",
       "      <td>670</td>\n",
       "    </tr>\n",
       "    <tr>\n",
       "      <th>2</th>\n",
       "      <td>I called WVM on the recommendation of a couple...</td>\n",
       "      <td>5</td>\n",
       "      <td>i called wvm on the recommendation of a couple...</td>\n",
       "      <td>560</td>\n",
       "    </tr>\n",
       "    <tr>\n",
       "      <th>3</th>\n",
       "      <td>I've stayed at many Marriott and Renaissance M...</td>\n",
       "      <td>2</td>\n",
       "      <td>ive stayed at many marriott and renaissance ma...</td>\n",
       "      <td>373</td>\n",
       "    </tr>\n",
       "    <tr>\n",
       "      <th>4</th>\n",
       "      <td>The food is always great here. The service fro...</td>\n",
       "      <td>4</td>\n",
       "      <td>the food is always great here the service from...</td>\n",
       "      <td>175</td>\n",
       "    </tr>\n",
       "  </tbody>\n",
       "</table>\n",
       "</div>"
      ],
      "text/plain": [
       "                                                text  ...  text1_length\n",
       "0  Apparently Prides Osteria had a rough summer a...  ...          1825\n",
       "1  This store is pretty good. Not as great as Wal...  ...           670\n",
       "2  I called WVM on the recommendation of a couple...  ...           560\n",
       "3  I've stayed at many Marriott and Renaissance M...  ...           373\n",
       "4  The food is always great here. The service fro...  ...           175\n",
       "\n",
       "[5 rows x 4 columns]"
      ]
     },
     "execution_count": 69,
     "metadata": {},
     "output_type": "execute_result"
    }
   ],
   "source": [
    "#Text Length before removing stop words\n",
    "df['text1_length'] = df['text1'].apply(lambda x : len(x))\n",
    "df.info()\n",
    "df.head()"
   ]
  },
  {
   "cell_type": "code",
   "execution_count": 70,
   "metadata": {
    "colab": {
     "base_uri": "https://localhost:8080/"
    },
    "executionInfo": {
     "elapsed": 20,
     "status": "ok",
     "timestamp": 1638885923823,
     "user": {
      "displayName": "kurra bhavana",
      "photoUrl": "https://lh3.googleusercontent.com/a/default-user=s64",
      "userId": "08529290344632635528"
     },
     "user_tz": -330
    },
    "id": "aVHjCgUWJfH6",
    "outputId": "b1fd94b5-a565-4314-9cc3-78842c8191da"
   },
   "outputs": [
    {
     "data": {
      "text/plain": [
       "580.740697"
      ]
     },
     "execution_count": 70,
     "metadata": {},
     "output_type": "execute_result"
    }
   ],
   "source": [
    "df['text1_length'].mean()"
   ]
  },
  {
   "cell_type": "code",
   "execution_count": 71,
   "metadata": {
    "colab": {
     "base_uri": "https://localhost:8080/"
    },
    "executionInfo": {
     "elapsed": 17,
     "status": "ok",
     "timestamp": 1638885923824,
     "user": {
      "displayName": "kurra bhavana",
      "photoUrl": "https://lh3.googleusercontent.com/a/default-user=s64",
      "userId": "08529290344632635528"
     },
     "user_tz": -330
    },
    "id": "FKWQAyh_7yFt",
    "outputId": "615be3f9-a421-498e-838a-778b5ed3852c"
   },
   "outputs": [
    {
     "name": "stdout",
     "output_type": "stream",
     "text": [
      "Number of stop words :  179\n",
      "stop words :  ['i', 'me', 'my', 'myself', 'we', 'our', 'ours', 'ourselves', 'you', \"you're\", \"you've\", \"you'll\", \"you'd\", 'your', 'yours', 'yourself', 'yourselves', 'he', 'him', 'his', 'himself', 'she', \"she's\", 'her', 'hers', 'herself', 'it', \"it's\", 'its', 'itself', 'they', 'them', 'their', 'theirs', 'themselves', 'what', 'which', 'who', 'whom', 'this', 'that', \"that'll\", 'these', 'those', 'am', 'is', 'are', 'was', 'were', 'be', 'been', 'being', 'have', 'has', 'had', 'having', 'do', 'does', 'did', 'doing', 'a', 'an', 'the', 'and', 'but', 'if', 'or', 'because', 'as', 'until', 'while', 'of', 'at', 'by', 'for', 'with', 'about', 'against', 'between', 'into', 'through', 'during', 'before', 'after', 'above', 'below', 'to', 'from', 'up', 'down', 'in', 'out', 'on', 'off', 'over', 'under', 'again', 'further', 'then', 'once', 'here', 'there', 'when', 'where', 'why', 'how', 'all', 'any', 'both', 'each', 'few', 'more', 'most', 'other', 'some', 'such', 'no', 'nor', 'not', 'only', 'own', 'same', 'so', 'than', 'too', 'very', 's', 't', 'can', 'will', 'just', 'don', \"don't\", 'should', \"should've\", 'now', 'd', 'll', 'm', 'o', 're', 've', 'y', 'ain', 'aren', \"aren't\", 'couldn', \"couldn't\", 'didn', \"didn't\", 'doesn', \"doesn't\", 'hadn', \"hadn't\", 'hasn', \"hasn't\", 'haven', \"haven't\", 'isn', \"isn't\", 'ma', 'mightn', \"mightn't\", 'mustn', \"mustn't\", 'needn', \"needn't\", 'shan', \"shan't\", 'shouldn', \"shouldn't\", 'wasn', \"wasn't\", 'weren', \"weren't\", 'won', \"won't\", 'wouldn', \"wouldn't\"]\n",
      "Number of new stop words :  143\n",
      "New stop words :  ['i', 'me', 'my', 'myself', 'we', 'our', 'ours', 'ourselves', 'you', \"you're\", \"you've\", \"you'll\", \"you'd\", 'your', 'yours', 'yourself', 'yourselves', 'he', 'him', 'his', 'himself', 'she', \"she's\", 'her', 'hers', 'herself', 'it', \"it's\", 'its', 'itself', 'they', 'them', 'their', 'theirs', 'themselves', 'what', 'which', 'who', 'whom', 'this', 'that', \"that'll\", 'these', 'those', 'am', 'is', 'are', 'was', 'were', 'be', 'been', 'being', 'have', 'has', 'had', 'having', 'do', 'does', 'did', 'doing', 'a', 'an', 'the', 'and', 'but', 'if', 'or', 'because', 'as', 'until', 'while', 'of', 'at', 'by', 'for', 'with', 'about', 'between', 'into', 'through', 'during', 'before', 'after', 'above', 'below', 'to', 'from', 'up', 'down', 'in', 'out', 'on', 'off', 'over', 'under', 'again', 'further', 'then', 'once', 'here', 'there', 'when', 'where', 'why', 'how', 'all', 'any', 'both', 'each', 'few', 'more', 'most', 'other', 'some', 'such', 'no', 'nor', 'only', 'own', 'same', 'so', 'than', 'too', 'very', 's', 't', 'can', 'will', 'just', 'don', 'should', \"should've\", 'now', 'd', 'll', 'm', 'o', 're', 've', 'y', 'ain', 'aren', 'ma']\n"
     ]
    }
   ],
   "source": [
    "#3. remove stopwords\n",
    "stop = stopwords.words('english')\n",
    "print(\"Number of stop words : \",len(stop))\n",
    "print(\"stop words : \",stop)\n",
    "\n",
    "n_stopwords = ['against','not', \"don't\", \"aren't\", 'couldn', \"couldn't\", 'didn', \"didn't\", 'doesn', \"doesn't\", 'hadn', \"hadn't\", 'hasn', \"hasn't\", 'haven', \"haven't\", 'isn', \"isn't\", 'mightn', \"mightn't\", 'mustn', \"mustn't\", 'needn', \"needn't\", 'shan', \"shan't\", 'shouldn', \"shouldn't\", 'wasn', \"wasn't\", 'weren', \"weren't\", 'won', \"won't\", 'wouldn', \"wouldn't\"]\n",
    "stop_new = [i for i in stop if i not in n_stopwords]\n",
    "print(\"Number of new stop words : \",len(stop_new))\n",
    "print(\"New stop words : \",stop_new)"
   ]
  },
  {
   "cell_type": "code",
   "execution_count": 72,
   "metadata": {
    "colab": {
     "base_uri": "https://localhost:8080/",
     "height": 397
    },
    "executionInfo": {
     "elapsed": 184379,
     "status": "ok",
     "timestamp": 1638886108191,
     "user": {
      "displayName": "kurra bhavana",
      "photoUrl": "https://lh3.googleusercontent.com/a/default-user=s64",
      "userId": "08529290344632635528"
     },
     "user_tz": -330
    },
    "id": "w5QO51sN8N0C",
    "outputId": "1aedb42f-a8f4-46eb-8fc0-0d6a3b224550"
   },
   "outputs": [
    {
     "name": "stdout",
     "output_type": "stream",
     "text": [
      "<class 'pandas.core.frame.DataFrame'>\n",
      "Int64Index: 1000000 entries, 0 to 999999\n",
      "Data columns (total 4 columns):\n",
      " #   Column        Non-Null Count    Dtype \n",
      "---  ------        --------------    ----- \n",
      " 0   text          1000000 non-null  object\n",
      " 1   stars         1000000 non-null  int64 \n",
      " 2   text1         1000000 non-null  object\n",
      " 3   text1_length  1000000 non-null  int64 \n",
      "dtypes: int64(2), object(2)\n",
      "memory usage: 38.1+ MB\n"
     ]
    },
    {
     "data": {
      "text/html": [
       "<div>\n",
       "<style scoped>\n",
       "    .dataframe tbody tr th:only-of-type {\n",
       "        vertical-align: middle;\n",
       "    }\n",
       "\n",
       "    .dataframe tbody tr th {\n",
       "        vertical-align: top;\n",
       "    }\n",
       "\n",
       "    .dataframe thead th {\n",
       "        text-align: right;\n",
       "    }\n",
       "</style>\n",
       "<table border=\"1\" class=\"dataframe\">\n",
       "  <thead>\n",
       "    <tr style=\"text-align: right;\">\n",
       "      <th></th>\n",
       "      <th>text</th>\n",
       "      <th>stars</th>\n",
       "      <th>text1</th>\n",
       "      <th>text1_length</th>\n",
       "    </tr>\n",
       "  </thead>\n",
       "  <tbody>\n",
       "    <tr>\n",
       "      <th>0</th>\n",
       "      <td>Apparently Prides Osteria had a rough summer a...</td>\n",
       "      <td>4</td>\n",
       "      <td>apparently prides osteria rough summer evidenc...</td>\n",
       "      <td>1825</td>\n",
       "    </tr>\n",
       "    <tr>\n",
       "      <th>1</th>\n",
       "      <td>This store is pretty good. Not as great as Wal...</td>\n",
       "      <td>4</td>\n",
       "      <td>store pretty good not great walmart preferred ...</td>\n",
       "      <td>670</td>\n",
       "    </tr>\n",
       "    <tr>\n",
       "      <th>2</th>\n",
       "      <td>I called WVM on the recommendation of a couple...</td>\n",
       "      <td>5</td>\n",
       "      <td>called wvm recommendation couple friends used ...</td>\n",
       "      <td>560</td>\n",
       "    </tr>\n",
       "    <tr>\n",
       "      <th>3</th>\n",
       "      <td>I've stayed at many Marriott and Renaissance M...</td>\n",
       "      <td>2</td>\n",
       "      <td>ive stayed many marriott renaissance marriotts...</td>\n",
       "      <td>373</td>\n",
       "    </tr>\n",
       "    <tr>\n",
       "      <th>4</th>\n",
       "      <td>The food is always great here. The service fro...</td>\n",
       "      <td>4</td>\n",
       "      <td>food always great service manager well staff s...</td>\n",
       "      <td>175</td>\n",
       "    </tr>\n",
       "  </tbody>\n",
       "</table>\n",
       "</div>"
      ],
      "text/plain": [
       "                                                text  ...  text1_length\n",
       "0  Apparently Prides Osteria had a rough summer a...  ...          1825\n",
       "1  This store is pretty good. Not as great as Wal...  ...           670\n",
       "2  I called WVM on the recommendation of a couple...  ...           560\n",
       "3  I've stayed at many Marriott and Renaissance M...  ...           373\n",
       "4  The food is always great here. The service fro...  ...           175\n",
       "\n",
       "[5 rows x 4 columns]"
      ]
     },
     "execution_count": 72,
     "metadata": {},
     "output_type": "execute_result"
    }
   ],
   "source": [
    "df['text1'] = df['text1'].apply(lambda x: \" \".join(x for x in x.split() if x not in stop_new))\n",
    "df.info()\n",
    "df.head()"
   ]
  },
  {
   "cell_type": "code",
   "execution_count": 73,
   "metadata": {
    "colab": {
     "base_uri": "https://localhost:8080/",
     "height": 397
    },
    "executionInfo": {
     "elapsed": 924,
     "status": "ok",
     "timestamp": 1638886109108,
     "user": {
      "displayName": "kurra bhavana",
      "photoUrl": "https://lh3.googleusercontent.com/a/default-user=s64",
      "userId": "08529290344632635528"
     },
     "user_tz": -330
    },
    "id": "Gr6C9sVK-Xs0",
    "outputId": "9e265292-94c8-49aa-c717-331fdb5fcc31"
   },
   "outputs": [
    {
     "name": "stdout",
     "output_type": "stream",
     "text": [
      "<class 'pandas.core.frame.DataFrame'>\n",
      "Int64Index: 1000000 entries, 0 to 999999\n",
      "Data columns (total 4 columns):\n",
      " #   Column        Non-Null Count    Dtype \n",
      "---  ------        --------------    ----- \n",
      " 0   text          1000000 non-null  object\n",
      " 1   stars         1000000 non-null  int64 \n",
      " 2   text1         1000000 non-null  object\n",
      " 3   text1_length  1000000 non-null  int64 \n",
      "dtypes: int64(2), object(2)\n",
      "memory usage: 38.1+ MB\n"
     ]
    },
    {
     "data": {
      "text/html": [
       "<div>\n",
       "<style scoped>\n",
       "    .dataframe tbody tr th:only-of-type {\n",
       "        vertical-align: middle;\n",
       "    }\n",
       "\n",
       "    .dataframe tbody tr th {\n",
       "        vertical-align: top;\n",
       "    }\n",
       "\n",
       "    .dataframe thead th {\n",
       "        text-align: right;\n",
       "    }\n",
       "</style>\n",
       "<table border=\"1\" class=\"dataframe\">\n",
       "  <thead>\n",
       "    <tr style=\"text-align: right;\">\n",
       "      <th></th>\n",
       "      <th>text</th>\n",
       "      <th>stars</th>\n",
       "      <th>text1</th>\n",
       "      <th>text1_length</th>\n",
       "    </tr>\n",
       "  </thead>\n",
       "  <tbody>\n",
       "    <tr>\n",
       "      <th>0</th>\n",
       "      <td>Apparently Prides Osteria had a rough summer a...</td>\n",
       "      <td>4</td>\n",
       "      <td>apparently prides osteria rough summer evidenc...</td>\n",
       "      <td>1254</td>\n",
       "    </tr>\n",
       "    <tr>\n",
       "      <th>1</th>\n",
       "      <td>This store is pretty good. Not as great as Wal...</td>\n",
       "      <td>4</td>\n",
       "      <td>store pretty good not great walmart preferred ...</td>\n",
       "      <td>460</td>\n",
       "    </tr>\n",
       "    <tr>\n",
       "      <th>2</th>\n",
       "      <td>I called WVM on the recommendation of a couple...</td>\n",
       "      <td>5</td>\n",
       "      <td>called wvm recommendation couple friends used ...</td>\n",
       "      <td>357</td>\n",
       "    </tr>\n",
       "    <tr>\n",
       "      <th>3</th>\n",
       "      <td>I've stayed at many Marriott and Renaissance M...</td>\n",
       "      <td>2</td>\n",
       "      <td>ive stayed many marriott renaissance marriotts...</td>\n",
       "      <td>234</td>\n",
       "    </tr>\n",
       "    <tr>\n",
       "      <th>4</th>\n",
       "      <td>The food is always great here. The service fro...</td>\n",
       "      <td>4</td>\n",
       "      <td>food always great service manager well staff s...</td>\n",
       "      <td>99</td>\n",
       "    </tr>\n",
       "  </tbody>\n",
       "</table>\n",
       "</div>"
      ],
      "text/plain": [
       "                                                text  ...  text1_length\n",
       "0  Apparently Prides Osteria had a rough summer a...  ...          1254\n",
       "1  This store is pretty good. Not as great as Wal...  ...           460\n",
       "2  I called WVM on the recommendation of a couple...  ...           357\n",
       "3  I've stayed at many Marriott and Renaissance M...  ...           234\n",
       "4  The food is always great here. The service fro...  ...            99\n",
       "\n",
       "[5 rows x 4 columns]"
      ]
     },
     "execution_count": 73,
     "metadata": {},
     "output_type": "execute_result"
    }
   ],
   "source": [
    "#Text Length after removing stop words\n",
    "df['text1_length'] = df['text1'].apply(lambda x : len(x))\n",
    "df.info()\n",
    "df.head()"
   ]
  },
  {
   "cell_type": "code",
   "execution_count": 74,
   "metadata": {
    "colab": {
     "base_uri": "https://localhost:8080/"
    },
    "executionInfo": {
     "elapsed": 37,
     "status": "ok",
     "timestamp": 1638886109109,
     "user": {
      "displayName": "kurra bhavana",
      "photoUrl": "https://lh3.googleusercontent.com/a/default-user=s64",
      "userId": "08529290344632635528"
     },
     "user_tz": -330
    },
    "id": "8SFCJqTdJlg0",
    "outputId": "bae7383f-372d-42c4-e32a-f0e99451c1e5"
   },
   "outputs": [
    {
     "data": {
      "text/plain": [
       "380.486104"
      ]
     },
     "execution_count": 74,
     "metadata": {},
     "output_type": "execute_result"
    }
   ],
   "source": [
    "df['text1_length'].mean()"
   ]
  },
  {
   "cell_type": "code",
   "execution_count": 75,
   "metadata": {
    "colab": {
     "base_uri": "https://localhost:8080/",
     "height": 397
    },
    "executionInfo": {
     "elapsed": 84965,
     "status": "ok",
     "timestamp": 1638886194055,
     "user": {
      "displayName": "kurra bhavana",
      "photoUrl": "https://lh3.googleusercontent.com/a/default-user=s64",
      "userId": "08529290344632635528"
     },
     "user_tz": -330
    },
    "id": "NeuXA2FF_E99",
    "outputId": "14ec628f-c21f-4dd2-e608-88a9c148ab8b"
   },
   "outputs": [
    {
     "name": "stdout",
     "output_type": "stream",
     "text": [
      "<class 'pandas.core.frame.DataFrame'>\n",
      "Int64Index: 1000000 entries, 0 to 999999\n",
      "Data columns (total 4 columns):\n",
      " #   Column        Non-Null Count    Dtype \n",
      "---  ------        --------------    ----- \n",
      " 0   text          1000000 non-null  object\n",
      " 1   stars         1000000 non-null  int64 \n",
      " 2   text1         1000000 non-null  object\n",
      " 3   text1_length  1000000 non-null  int64 \n",
      "dtypes: int64(2), object(2)\n",
      "memory usage: 38.1+ MB\n"
     ]
    },
    {
     "data": {
      "text/html": [
       "<div>\n",
       "<style scoped>\n",
       "    .dataframe tbody tr th:only-of-type {\n",
       "        vertical-align: middle;\n",
       "    }\n",
       "\n",
       "    .dataframe tbody tr th {\n",
       "        vertical-align: top;\n",
       "    }\n",
       "\n",
       "    .dataframe thead th {\n",
       "        text-align: right;\n",
       "    }\n",
       "</style>\n",
       "<table border=\"1\" class=\"dataframe\">\n",
       "  <thead>\n",
       "    <tr style=\"text-align: right;\">\n",
       "      <th></th>\n",
       "      <th>text</th>\n",
       "      <th>stars</th>\n",
       "      <th>text1</th>\n",
       "      <th>text1_length</th>\n",
       "    </tr>\n",
       "  </thead>\n",
       "  <tbody>\n",
       "    <tr>\n",
       "      <th>0</th>\n",
       "      <td>Apparently Prides Osteria had a rough summer a...</td>\n",
       "      <td>4</td>\n",
       "      <td>apparently pride osteria rough summer evidence...</td>\n",
       "      <td>1254</td>\n",
       "    </tr>\n",
       "    <tr>\n",
       "      <th>1</th>\n",
       "      <td>This store is pretty good. Not as great as Wal...</td>\n",
       "      <td>4</td>\n",
       "      <td>store pretty good not great walmart prefer mil...</td>\n",
       "      <td>460</td>\n",
       "    </tr>\n",
       "    <tr>\n",
       "      <th>2</th>\n",
       "      <td>I called WVM on the recommendation of a couple...</td>\n",
       "      <td>5</td>\n",
       "      <td>call wvm recommendation couple friend used pas...</td>\n",
       "      <td>357</td>\n",
       "    </tr>\n",
       "    <tr>\n",
       "      <th>3</th>\n",
       "      <td>I've stayed at many Marriott and Renaissance M...</td>\n",
       "      <td>2</td>\n",
       "      <td>ive stay many marriott renaissance marriott hu...</td>\n",
       "      <td>234</td>\n",
       "    </tr>\n",
       "    <tr>\n",
       "      <th>4</th>\n",
       "      <td>The food is always great here. The service fro...</td>\n",
       "      <td>4</td>\n",
       "      <td>food alway great service manager well staff su...</td>\n",
       "      <td>99</td>\n",
       "    </tr>\n",
       "  </tbody>\n",
       "</table>\n",
       "</div>"
      ],
      "text/plain": [
       "                                                text  ...  text1_length\n",
       "0  Apparently Prides Osteria had a rough summer a...  ...          1254\n",
       "1  This store is pretty good. Not as great as Wal...  ...           460\n",
       "2  I called WVM on the recommendation of a couple...  ...           357\n",
       "3  I've stayed at many Marriott and Renaissance M...  ...           234\n",
       "4  The food is always great here. The service fro...  ...            99\n",
       "\n",
       "[5 rows x 4 columns]"
      ]
     },
     "execution_count": 75,
     "metadata": {},
     "output_type": "execute_result"
    }
   ],
   "source": [
    "#4. Lemmatization\n",
    "#lm= WordNetLemmatizer()  \n",
    "#nltk.download('wordnet')\n",
    "#df['text1'] = df['text1'].apply(lambda x: \" \".join([lm.lemmatize(word) for word in x.split()]))\n",
    "import pattern\n",
    "from pattern.en import lemma, lexeme\n",
    "from pattern.en import parse\n",
    "\n",
    "df['text1'] = df['text1'].apply(lambda x: \" \".join([lemma(word) for word in x.split()]))\n",
    "df.info()\n",
    "df.head()"
   ]
  },
  {
   "cell_type": "code",
   "execution_count": 94,
   "metadata": {
    "colab": {
     "base_uri": "https://localhost:8080/",
     "height": 53
    },
    "executionInfo": {
     "elapsed": 152,
     "status": "ok",
     "timestamp": 1638887000765,
     "user": {
      "displayName": "kurra bhavana",
      "photoUrl": "https://lh3.googleusercontent.com/a/default-user=s64",
      "userId": "08529290344632635528"
     },
     "user_tz": -330
    },
    "id": "KIFkuXSmLcEC",
    "outputId": "7f781fc2-b89c-4519-ba80-0dd1cdef73c7"
   },
   "outputs": [
    {
     "data": {
      "application/vnd.google.colaboratory.intrinsic+json": {
       "type": "string"
      },
      "text/plain": [
       "\"The food is always great here. The service from both the manager as well as the staff is super. Only draw back of this restaurant is it's super loud. If you can, snag a patio table!\""
      ]
     },
     "execution_count": 94,
     "metadata": {},
     "output_type": "execute_result"
    }
   ],
   "source": [
    "#A sentence before preprocessing\n",
    "df['text'][4]"
   ]
  },
  {
   "cell_type": "code",
   "execution_count": 96,
   "metadata": {
    "colab": {
     "base_uri": "https://localhost:8080/",
     "height": 35
    },
    "executionInfo": {
     "elapsed": 136,
     "status": "ok",
     "timestamp": 1638887007663,
     "user": {
      "displayName": "kurra bhavana",
      "photoUrl": "https://lh3.googleusercontent.com/a/default-user=s64",
      "userId": "08529290344632635528"
     },
     "user_tz": -330
    },
    "id": "eCTo_Ot9LiPj",
    "outputId": "35f28863-7ca4-4def-854b-19d70bf78e58"
   },
   "outputs": [
    {
     "data": {
      "application/vnd.google.colaboratory.intrinsic+json": {
       "type": "string"
      },
      "text/plain": [
       "'food alway great service manager well staff super draw back restaurant super loud snag patio table'"
      ]
     },
     "execution_count": 96,
     "metadata": {},
     "output_type": "execute_result"
    }
   ],
   "source": [
    "#A sentence after preprocessing(lower case conversion, punctuations removal, stop words removal, lemmatization)\n",
    "df['text1'][4]"
   ]
  },
  {
   "cell_type": "code",
   "execution_count": 78,
   "metadata": {
    "colab": {
     "base_uri": "https://localhost:8080/",
     "height": 414
    },
    "executionInfo": {
     "elapsed": 1637,
     "status": "ok",
     "timestamp": 1638886195668,
     "user": {
      "displayName": "kurra bhavana",
      "photoUrl": "https://lh3.googleusercontent.com/a/default-user=s64",
      "userId": "08529290344632635528"
     },
     "user_tz": -330
    },
    "id": "e1WoRVT9HRf_",
    "outputId": "67384bbd-d609-4f7a-dfe7-06d9680320ae"
   },
   "outputs": [
    {
     "name": "stdout",
     "output_type": "stream",
     "text": [
      "<class 'pandas.core.frame.DataFrame'>\n",
      "Int64Index: 1000000 entries, 0 to 999999\n",
      "Data columns (total 5 columns):\n",
      " #   Column        Non-Null Count    Dtype \n",
      "---  ------        --------------    ----- \n",
      " 0   text          1000000 non-null  object\n",
      " 1   stars         1000000 non-null  int64 \n",
      " 2   text1         1000000 non-null  object\n",
      " 3   text1_length  1000000 non-null  int64 \n",
      " 4   text2         1000000 non-null  object\n",
      "dtypes: int64(2), object(3)\n",
      "memory usage: 45.8+ MB\n"
     ]
    },
    {
     "data": {
      "text/html": [
       "<div>\n",
       "<style scoped>\n",
       "    .dataframe tbody tr th:only-of-type {\n",
       "        vertical-align: middle;\n",
       "    }\n",
       "\n",
       "    .dataframe tbody tr th {\n",
       "        vertical-align: top;\n",
       "    }\n",
       "\n",
       "    .dataframe thead th {\n",
       "        text-align: right;\n",
       "    }\n",
       "</style>\n",
       "<table border=\"1\" class=\"dataframe\">\n",
       "  <thead>\n",
       "    <tr style=\"text-align: right;\">\n",
       "      <th></th>\n",
       "      <th>text</th>\n",
       "      <th>stars</th>\n",
       "      <th>text1</th>\n",
       "      <th>text1_length</th>\n",
       "      <th>text2</th>\n",
       "    </tr>\n",
       "  </thead>\n",
       "  <tbody>\n",
       "    <tr>\n",
       "      <th>0</th>\n",
       "      <td>Apparently Prides Osteria had a rough summer a...</td>\n",
       "      <td>4</td>\n",
       "      <td>apparently pride osteria rough summer evidence...</td>\n",
       "      <td>1254</td>\n",
       "      <td>\"apparently pride osteria rough summer evidenc...</td>\n",
       "    </tr>\n",
       "    <tr>\n",
       "      <th>1</th>\n",
       "      <td>This store is pretty good. Not as great as Wal...</td>\n",
       "      <td>4</td>\n",
       "      <td>store pretty good not great walmart prefer mil...</td>\n",
       "      <td>460</td>\n",
       "      <td>\"store pretty good not great walmart prefer mi...</td>\n",
       "    </tr>\n",
       "    <tr>\n",
       "      <th>2</th>\n",
       "      <td>I called WVM on the recommendation of a couple...</td>\n",
       "      <td>5</td>\n",
       "      <td>call wvm recommendation couple friend used pas...</td>\n",
       "      <td>357</td>\n",
       "      <td>\"call wvm recommendation couple friend used pa...</td>\n",
       "    </tr>\n",
       "    <tr>\n",
       "      <th>3</th>\n",
       "      <td>I've stayed at many Marriott and Renaissance M...</td>\n",
       "      <td>2</td>\n",
       "      <td>ive stay many marriott renaissance marriott hu...</td>\n",
       "      <td>234</td>\n",
       "      <td>\"ive stay many marriott renaissance marriott h...</td>\n",
       "    </tr>\n",
       "    <tr>\n",
       "      <th>4</th>\n",
       "      <td>The food is always great here. The service fro...</td>\n",
       "      <td>4</td>\n",
       "      <td>food alway great service manager well staff su...</td>\n",
       "      <td>99</td>\n",
       "      <td>\"food alway great service manager well staff s...</td>\n",
       "    </tr>\n",
       "  </tbody>\n",
       "</table>\n",
       "</div>"
      ],
      "text/plain": [
       "                                                text  ...                                              text2\n",
       "0  Apparently Prides Osteria had a rough summer a...  ...  \"apparently pride osteria rough summer evidenc...\n",
       "1  This store is pretty good. Not as great as Wal...  ...  \"store pretty good not great walmart prefer mi...\n",
       "2  I called WVM on the recommendation of a couple...  ...  \"call wvm recommendation couple friend used pa...\n",
       "3  I've stayed at many Marriott and Renaissance M...  ...  \"ive stay many marriott renaissance marriott h...\n",
       "4  The food is always great here. The service fro...  ...  \"food alway great service manager well staff s...\n",
       "\n",
       "[5 rows x 5 columns]"
      ]
     },
     "execution_count": 78,
     "metadata": {},
     "output_type": "execute_result"
    }
   ],
   "source": [
    "#Adding quotations for text1 for proper reading of the dataframe in pySpark\n",
    "df['text2'] = '\"'+df['text1']+'\"'\n",
    "df.info()\n",
    "df.head()"
   ]
  },
  {
   "cell_type": "code",
   "execution_count": 79,
   "metadata": {
    "colab": {
     "base_uri": "https://localhost:8080/",
     "height": 380
    },
    "executionInfo": {
     "elapsed": 386,
     "status": "ok",
     "timestamp": 1638886196046,
     "user": {
      "displayName": "kurra bhavana",
      "photoUrl": "https://lh3.googleusercontent.com/a/default-user=s64",
      "userId": "08529290344632635528"
     },
     "user_tz": -330
    },
    "id": "LcIUvtj3LRCD",
    "outputId": "dc50b869-b933-44c7-b767-25519e3a52a7"
   },
   "outputs": [
    {
     "name": "stdout",
     "output_type": "stream",
     "text": [
      "<class 'pandas.core.frame.DataFrame'>\n",
      "Int64Index: 1000000 entries, 0 to 999999\n",
      "Data columns (total 3 columns):\n",
      " #   Column             Non-Null Count    Dtype \n",
      "---  ------             --------------    ----- \n",
      " 0   basemodel_text     1000000 non-null  object\n",
      " 1   primarymodel_text  1000000 non-null  object\n",
      " 2   stars              1000000 non-null  int64 \n",
      "dtypes: int64(1), object(2)\n",
      "memory usage: 30.5+ MB\n"
     ]
    },
    {
     "data": {
      "text/html": [
       "<div>\n",
       "<style scoped>\n",
       "    .dataframe tbody tr th:only-of-type {\n",
       "        vertical-align: middle;\n",
       "    }\n",
       "\n",
       "    .dataframe tbody tr th {\n",
       "        vertical-align: top;\n",
       "    }\n",
       "\n",
       "    .dataframe thead th {\n",
       "        text-align: right;\n",
       "    }\n",
       "</style>\n",
       "<table border=\"1\" class=\"dataframe\">\n",
       "  <thead>\n",
       "    <tr style=\"text-align: right;\">\n",
       "      <th></th>\n",
       "      <th>basemodel_text</th>\n",
       "      <th>primarymodel_text</th>\n",
       "      <th>stars</th>\n",
       "    </tr>\n",
       "  </thead>\n",
       "  <tbody>\n",
       "    <tr>\n",
       "      <th>0</th>\n",
       "      <td>apparently pride osteria rough summer evidence...</td>\n",
       "      <td>\"apparently pride osteria rough summer evidenc...</td>\n",
       "      <td>4</td>\n",
       "    </tr>\n",
       "    <tr>\n",
       "      <th>1</th>\n",
       "      <td>store pretty good not great walmart prefer mil...</td>\n",
       "      <td>\"store pretty good not great walmart prefer mi...</td>\n",
       "      <td>4</td>\n",
       "    </tr>\n",
       "    <tr>\n",
       "      <th>2</th>\n",
       "      <td>call wvm recommendation couple friend used pas...</td>\n",
       "      <td>\"call wvm recommendation couple friend used pa...</td>\n",
       "      <td>5</td>\n",
       "    </tr>\n",
       "    <tr>\n",
       "      <th>3</th>\n",
       "      <td>ive stay many marriott renaissance marriott hu...</td>\n",
       "      <td>\"ive stay many marriott renaissance marriott h...</td>\n",
       "      <td>2</td>\n",
       "    </tr>\n",
       "    <tr>\n",
       "      <th>4</th>\n",
       "      <td>food alway great service manager well staff su...</td>\n",
       "      <td>\"food alway great service manager well staff s...</td>\n",
       "      <td>4</td>\n",
       "    </tr>\n",
       "  </tbody>\n",
       "</table>\n",
       "</div>"
      ],
      "text/plain": [
       "                                      basemodel_text  ... stars\n",
       "0  apparently pride osteria rough summer evidence...  ...     4\n",
       "1  store pretty good not great walmart prefer mil...  ...     4\n",
       "2  call wvm recommendation couple friend used pas...  ...     5\n",
       "3  ive stay many marriott renaissance marriott hu...  ...     2\n",
       "4  food alway great service manager well staff su...  ...     4\n",
       "\n",
       "[5 rows x 3 columns]"
      ]
     },
     "execution_count": 79,
     "metadata": {},
     "output_type": "execute_result"
    }
   ],
   "source": [
    "df_final = df.loc[:,['text1','text2','stars']]\n",
    "df_final.rename(columns={'text1':'basemodel_text', 'text2':'primarymodel_text'}, inplace=True)\n",
    "df_final.info()\n",
    "df_final.head()"
   ]
  },
  {
   "cell_type": "code",
   "execution_count": 80,
   "metadata": {
    "colab": {
     "base_uri": "https://localhost:8080/"
    },
    "executionInfo": {
     "elapsed": 13,
     "status": "ok",
     "timestamp": 1638886196425,
     "user": {
      "displayName": "kurra bhavana",
      "photoUrl": "https://lh3.googleusercontent.com/a/default-user=s64",
      "userId": "08529290344632635528"
     },
     "user_tz": -330
    },
    "id": "95qzhVJiOB63",
    "outputId": "56f49602-6964-4648-e3ba-5d92d3b2ffbc"
   },
   "outputs": [
    {
     "data": {
      "text/plain": [
       "count    1000000.000000\n",
       "mean           3.731814\n",
       "std            1.450113\n",
       "min            1.000000\n",
       "25%            3.000000\n",
       "50%            4.000000\n",
       "75%            5.000000\n",
       "max            5.000000\n",
       "Name: stars, dtype: float64"
      ]
     },
     "execution_count": 80,
     "metadata": {},
     "output_type": "execute_result"
    }
   ],
   "source": [
    "#Understanding stars/ratings\n",
    "df_final['stars'].describe()"
   ]
  },
  {
   "cell_type": "code",
   "execution_count": 81,
   "metadata": {
    "colab": {
     "base_uri": "https://localhost:8080/",
     "height": 265
    },
    "executionInfo": {
     "elapsed": 274,
     "status": "ok",
     "timestamp": 1638886196692,
     "user": {
      "displayName": "kurra bhavana",
      "photoUrl": "https://lh3.googleusercontent.com/a/default-user=s64",
      "userId": "08529290344632635528"
     },
     "user_tz": -330
    },
    "id": "WrZc2LJ8Nqor",
    "outputId": "71ca2544-d20a-4186-c799-85784945e3f8"
   },
   "outputs": [
    {
     "data": {
      "image/png": "[encoded data removed]",
      "text/plain": [
       "<Figure size 432x288 with 1 Axes>"
      ]
     },
     "metadata": {
      "needs_background": "light"
     },
     "output_type": "display_data"
    }
   ],
   "source": [
    "plt.boxplot(df_final['stars'])\n",
    "plt.show()"
   ]
  },
  {
   "cell_type": "code",
   "execution_count": 82,
   "metadata": {
    "colab": {
     "base_uri": "https://localhost:8080/",
     "height": 380
    },
    "executionInfo": {
     "elapsed": 919,
     "status": "ok",
     "timestamp": 1638886575996,
     "user": {
      "displayName": "kurra bhavana",
      "photoUrl": "https://lh3.googleusercontent.com/a/default-user=s64",
      "userId": "08529290344632635528"
     },
     "user_tz": -330
    },
    "id": "cHAYc5nSNnRB",
    "outputId": "f4676617-6c92-482d-a885-d528fa879d45"
   },
   "outputs": [
    {
     "name": "stdout",
     "output_type": "stream",
     "text": [
      "<class 'pandas.core.frame.DataFrame'>\n",
      "Int64Index: 1000000 entries, 0 to 999999\n",
      "Data columns (total 3 columns):\n",
      " #   Column             Non-Null Count    Dtype \n",
      "---  ------             --------------    ----- \n",
      " 0   basemodel_text     1000000 non-null  object\n",
      " 1   primarymodel_text  1000000 non-null  object\n",
      " 2   label              1000000 non-null  int64 \n",
      "dtypes: int64(1), object(2)\n",
      "memory usage: 30.5+ MB\n"
     ]
    },
    {
     "data": {
      "text/html": [
       "<div>\n",
       "<style scoped>\n",
       "    .dataframe tbody tr th:only-of-type {\n",
       "        vertical-align: middle;\n",
       "    }\n",
       "\n",
       "    .dataframe tbody tr th {\n",
       "        vertical-align: top;\n",
       "    }\n",
       "\n",
       "    .dataframe thead th {\n",
       "        text-align: right;\n",
       "    }\n",
       "</style>\n",
       "<table border=\"1\" class=\"dataframe\">\n",
       "  <thead>\n",
       "    <tr style=\"text-align: right;\">\n",
       "      <th></th>\n",
       "      <th>basemodel_text</th>\n",
       "      <th>primarymodel_text</th>\n",
       "      <th>label</th>\n",
       "    </tr>\n",
       "  </thead>\n",
       "  <tbody>\n",
       "    <tr>\n",
       "      <th>0</th>\n",
       "      <td>apparently pride osteria rough summer evidence...</td>\n",
       "      <td>\"apparently pride osteria rough summer evidenc...</td>\n",
       "      <td>1</td>\n",
       "    </tr>\n",
       "    <tr>\n",
       "      <th>1</th>\n",
       "      <td>store pretty good not great walmart prefer mil...</td>\n",
       "      <td>\"store pretty good not great walmart prefer mi...</td>\n",
       "      <td>1</td>\n",
       "    </tr>\n",
       "    <tr>\n",
       "      <th>2</th>\n",
       "      <td>call wvm recommendation couple friend used pas...</td>\n",
       "      <td>\"call wvm recommendation couple friend used pa...</td>\n",
       "      <td>1</td>\n",
       "    </tr>\n",
       "    <tr>\n",
       "      <th>3</th>\n",
       "      <td>ive stay many marriott renaissance marriott hu...</td>\n",
       "      <td>\"ive stay many marriott renaissance marriott h...</td>\n",
       "      <td>0</td>\n",
       "    </tr>\n",
       "    <tr>\n",
       "      <th>4</th>\n",
       "      <td>food alway great service manager well staff su...</td>\n",
       "      <td>\"food alway great service manager well staff s...</td>\n",
       "      <td>1</td>\n",
       "    </tr>\n",
       "  </tbody>\n",
       "</table>\n",
       "</div>"
      ],
      "text/plain": [
       "                                      basemodel_text  ... label\n",
       "0  apparently pride osteria rough summer evidence...  ...     1\n",
       "1  store pretty good not great walmart prefer mil...  ...     1\n",
       "2  call wvm recommendation couple friend used pas...  ...     1\n",
       "3  ive stay many marriott renaissance marriott hu...  ...     0\n",
       "4  food alway great service manager well staff su...  ...     1\n",
       "\n",
       "[5 rows x 3 columns]"
      ]
     },
     "execution_count": 82,
     "metadata": {},
     "output_type": "execute_result"
    }
   ],
   "source": [
    "#Adding labels - stars/rating is the parameter based on wich we are giving labels(1 for  positive review and 0 for negative review)\n",
    "#The stars values are left skewed having a mean of 3.73 and median of 4 - inorder to decrease class imabalance we are taking the partition value as 3.5 instead of 3\n",
    "#That is the reviews having stars/rating > 3.5 are labeled as positive reviews and the reviews having the stars/rating <=3.5 are labeled as negative reviews\n",
    "df_final['label'] = df_final['stars'].apply(lambda x: 1 if x>3.5 else 0)\n",
    "df_final.drop(columns='stars', inplace=True, axis=1)\n",
    "df_final.info()\n",
    "df_final.head()"
   ]
  },
  {
   "cell_type": "code",
   "execution_count": 83,
   "metadata": {
    "executionInfo": {
     "elapsed": 19569,
     "status": "ok",
     "timestamp": 1638886613958,
     "user": {
      "displayName": "kurra bhavana",
      "photoUrl": "https://lh3.googleusercontent.com/a/default-user=s64",
      "userId": "08529290344632635528"
     },
     "user_tz": -330
    },
    "id": "YQEv-XVeM6NN"
   },
   "outputs": [],
   "source": [
    "dir = '/content/drive/My Drive/DB/Review/reviews_processed_final/'+'review1.csv'\n",
    "df_final.to_csv(dir,sep=\",\",index=False)"
   ]
  },
  {
   "cell_type": "code",
   "execution_count": null,
   "metadata": {
    "id": "869ly2ZHNEii"
   },
   "outputs": [],
   "source": []
  }
 ],
 "metadata": {
  "colab": {
   "authorship_tag": "ABX9TyNFTYXsIgcxMzuTqvSNw2e8",
   "collapsed_sections": [],
   "mount_file_id": "1jVUo983p4h3QGLha_MekwJtEkw-iJTcS",
   "name": "DB_DataProcessing_Final.ipynb",
   "provenance": []
  },
  "kernelspec": {
   "display_name": "Python 3 (ipykernel)",
   "language": "python",
   "name": "python3"
  },
  "language_info": {
   "codemirror_mode": {
    "name": "ipython",
    "version": 3
   },
   "file_extension": ".py",
   "mimetype": "text/x-python",
   "name": "python",
   "nbconvert_exporter": "python",
   "pygments_lexer": "ipython3",
   "version": "3.7.9"
  }
 },
 "nbformat": 4,
 "nbformat_minor": 1
}
